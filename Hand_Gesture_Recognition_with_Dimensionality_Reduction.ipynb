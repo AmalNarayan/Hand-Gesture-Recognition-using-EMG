{
  "nbformat": 4,
  "nbformat_minor": 0,
  "metadata": {
    "colab": {
      "name": "Hand Gesture Recognition with Dimensionality Reduction.ipynb",
      "provenance": [],
      "collapsed_sections": []
    },
    "kernelspec": {
      "name": "python3",
      "display_name": "Python 3"
    },
    "language_info": {
      "name": "python"
    }
  },
  "cells": [
    {
      "cell_type": "code",
      "metadata": {
        "id": "AEKrM84I7aMN",
        "colab": {
          "base_uri": "https://localhost:8080/"
        },
        "outputId": "9bbf3a56-d038-451d-8ea6-2f4b7bc4664a"
      },
      "source": [
        " #PCA with RF\n",
        "# Importing the libraries\n",
        "import numpy as np\n",
        "import matplotlib.pyplot as plt\n",
        "import pandas as pd\n",
        "# Importing the dataset\n",
        "dataset = pd.read_csv('train.csv')\n",
        "X_train = dataset.iloc[:, 1:9].values\n",
        "y_train = dataset.iloc[:, 9].values\n",
        "# Splitting the dataset into the Training set and Test set\n",
        "from sklearn.model_selection import train_test_split\n",
        "X_train, X_test, y_train, y_test = train_test_split(X_train, y_train, test_size = 0.1, random_state = 0)\n",
        "\n",
        "# Feature Scaling\n",
        "from sklearn.preprocessing import StandardScaler\n",
        "sc = StandardScaler()\n",
        "X_train = sc.fit_transform(X_train)\n",
        "X_test = sc.transform(X_test)\n",
        "\n",
        "# Applying PCA\n",
        "from sklearn.decomposition import PCA\n",
        "\n",
        "pca = PCA(n_components=4)\n",
        "X_train = pca.fit_transform(X_train)\n",
        "X_test = pca.transform(X_test)\n",
        " \n",
        "#Applying Random Forest\n",
        "from sklearn.ensemble import RandomForestClassifier\n",
        "\n",
        "classifier = RandomForestClassifier(max_depth=10, random_state=0)\n",
        "classifier.fit(X_train, y_train)\n",
        "\n",
        "# Predicting the Test set results\n",
        "y_pred = classifier.predict(X_test)\n",
        "from sklearn.metrics import classification_report, confusion_matrix, accuracy_score\n",
        "\n",
        "print(confusion_matrix(y_test,y_pred))\n",
        "print(classification_report(y_test,y_pred))\n",
        "print(accuracy_score(y_test, y_pred)*100)\n"
      ],
      "execution_count": null,
      "outputs": [
        {
          "output_type": "stream",
          "text": [
            "[[4144    0    2    8    5    2    2]\n",
            " [ 353    4    0    0    0    0    0]\n",
            " [  74    0  256    6    5    4    0]\n",
            " [ 111    0    1  250    2    0    0]\n",
            " [ 111    0    0    0  238    4    0]\n",
            " [ 111    0    0    0   11  240    0]\n",
            " [ 132    0    0    3    0    0  241]]\n",
            "              precision    recall  f1-score   support\n",
            "\n",
            "           0       0.82      1.00      0.90      4163\n",
            "           1       1.00      0.01      0.02       357\n",
            "           2       0.99      0.74      0.85       345\n",
            "           3       0.94      0.69      0.79       364\n",
            "           4       0.91      0.67      0.78       353\n",
            "           5       0.96      0.66      0.78       362\n",
            "           6       0.99      0.64      0.78       376\n",
            "\n",
            "    accuracy                           0.85      6320\n",
            "   macro avg       0.94      0.63      0.70      6320\n",
            "weighted avg       0.87      0.85      0.82      6320\n",
            "\n",
            "85.01582278481013\n"
          ],
          "name": "stdout"
        }
      ]
    },
    {
      "cell_type": "code",
      "metadata": {
        "colab": {
          "base_uri": "https://localhost:8080/"
        },
        "id": "RvEECANU0AAX",
        "outputId": "284e539e-bdbc-4ed1-cc94-bb5aedf76f82"
      },
      "source": [
        "#LDA with RF\n",
        "# Importing the libraries\n",
        "import numpy as np\n",
        "import matplotlib.pyplot as plt\n",
        "import pandas as pd\n",
        "# Importing the dataset\n",
        "dataset = pd.read_csv('train.csv')\n",
        "X_train = dataset.iloc[:, 1:9].values\n",
        "y_train = dataset.iloc[:, 9].values\n",
        "# Splitting the dataset into the Training set and Test set\n",
        "from sklearn.model_selection import train_test_split\n",
        "X_train, X_test, y_train, y_test = train_test_split(X_train, y_train, test_size = 0.1, random_state = 0)\n",
        "\n",
        "# Feature Scaling\n",
        "from sklearn.preprocessing import StandardScaler\n",
        "sc = StandardScaler()\n",
        "X_train = sc.fit_transform(X_train)\n",
        "X_test = sc.transform(X_test)\n",
        "\n",
        "# Applying LDA\n",
        "from sklearn.discriminant_analysis import LinearDiscriminantAnalysis as LDA\n",
        "\n",
        "lda = LDA(n_components=2)\n",
        "X_train = lda.fit_transform(X_train, y_train)\n",
        "X_test = lda.transform(X_test)\n",
        "\n",
        "from sklearn.ensemble import RandomForestClassifier\n",
        "\n",
        "classifier = RandomForestClassifier(max_depth=10, random_state=0)\n",
        "\n",
        "classifier.fit(X_train, y_train)\n",
        "y_pred = classifier.predict(X_test)\n",
        "\n",
        "from sklearn.metrics import classification_report, confusion_matrix, accuracy_score\n",
        "\n",
        "print(confusion_matrix(y_test,y_pred))\n",
        "print(classification_report(y_test,y_pred))\n",
        "print(accuracy_score(y_test, y_pred)*100)"
      ],
      "execution_count": null,
      "outputs": [
        {
          "output_type": "stream",
          "text": [
            "[[4153    0    1    7    0    1    1]\n",
            " [ 355    2    0    0    0    0    0]\n",
            " [ 214    0  129    1    0    0    1]\n",
            " [ 178    0    0  185    0    0    1]\n",
            " [ 287    0    0    0   66    0    0]\n",
            " [ 256    0    0    0    0  105    1]\n",
            " [ 227    0    2    5    2    0  140]]\n",
            "              precision    recall  f1-score   support\n",
            "\n",
            "           0       0.73      1.00      0.84      4163\n",
            "           1       1.00      0.01      0.01       357\n",
            "           2       0.98      0.37      0.54       345\n",
            "           3       0.93      0.51      0.66       364\n",
            "           4       0.97      0.19      0.31       353\n",
            "           5       0.99      0.29      0.45       362\n",
            "           6       0.97      0.37      0.54       376\n",
            "\n",
            "    accuracy                           0.76      6320\n",
            "   macro avg       0.94      0.39      0.48      6320\n",
            "weighted avg       0.81      0.76      0.70      6320\n",
            "\n",
            "75.63291139240506\n"
          ],
          "name": "stdout"
        }
      ]
    },
    {
      "cell_type": "code",
      "metadata": {
        "colab": {
          "base_uri": "https://localhost:8080/"
        },
        "id": "r5wRfy_D2kDp",
        "outputId": "0021e947-adc5-4789-f053-35f3e917a4f3"
      },
      "source": [
        "#PCA with Logistic Regression\n",
        "# Importing the libraries\n",
        "import numpy as np\n",
        "import matplotlib.pyplot as plt\n",
        "import pandas as pd\n",
        "# Importing the dataset\n",
        "dataset = pd.read_csv('train.csv')\n",
        "X = dataset.iloc[:, 1:9].values\n",
        "y = dataset.iloc[:, 9].values\n",
        "# Splitting the dataset into the Training set and Test set\n",
        "from sklearn.model_selection import train_test_split\n",
        "X_train, X_test, y_train, y_test = train_test_split(X, y, test_size = 0.1, random_state = 0)\n",
        "# Feature Scaling\n",
        "from sklearn.preprocessing import StandardScaler\n",
        "sc = StandardScaler()\n",
        "X_train = sc.fit_transform(X_train)\n",
        "X_test = sc.transform(X_test)\n",
        "# Applying PCA\n",
        "from sklearn.decomposition import PCA\n",
        "pca = PCA(n_components=8)\n",
        "X_train = pca.fit_transform(X_train)\n",
        "X_test = pca.transform(X_test)\n",
        "\n",
        "#Applying Logistic Regression\n",
        "from sklearn.linear_model import LogisticRegression\n",
        "classifierLR = LogisticRegression()\n",
        "classifierLR.fit(X, y)\n",
        "y_pred = classifierLR.predict(X_test)\n",
        "from sklearn.metrics import classification_report, confusion_matrix, accuracy_score\n",
        "print(\"Logistic Regression\",accuracy_score(y_test, y_pred)*100)"
      ],
      "execution_count": null,
      "outputs": [
        {
          "output_type": "stream",
          "text": [
            "Logistic Regression 65.87025316455696\n"
          ],
          "name": "stdout"
        }
      ]
    },
    {
      "cell_type": "code",
      "metadata": {
        "colab": {
          "base_uri": "https://localhost:8080/"
        },
        "id": "n1QafbyOz7DX",
        "outputId": "edb0eb2d-fcc6-4974-d84c-99ac332b546e"
      },
      "source": [
        "#PCA with SVM\n",
        "# Importing the libraries\n",
        "import numpy as np\n",
        "import matplotlib.pyplot as plt\n",
        "import pandas as pd\n",
        "# Importing the dataset\n",
        "dataset = pd.read_csv('train.csv')\n",
        "X_train = dataset.iloc[:20000, 1:9].values\n",
        "y_train = dataset.iloc[:20000, 9].values\n",
        "# Splitting the dataset into the Training set and Test set\n",
        "from sklearn.model_selection import train_test_split\n",
        "X_train, X_test, y_train, y_test = train_test_split(X_train, y_train, test_size = 0.1, random_state = 5)\n",
        "# Feature Scaling\n",
        "from sklearn.preprocessing import StandardScaler\n",
        "sc = StandardScaler()\n",
        "X_train = sc.fit_transform(X_train)\n",
        "X_test = sc.transform(X_test)\n",
        "# Applying PCA\n",
        "from sklearn.decomposition import PCA\n",
        "pca = PCA(n_components=4)\n",
        "X_train = pca.fit_transform(X_train)\n",
        "X_test = pca.transform(X_test)\n",
        "#Applying SVM\n",
        "from sklearn.svm import SVC\n",
        "svclassifier = SVC(kernel='rbf')\n",
        "svclassifier.fit(X_train, y_train)\n",
        "y_pred = svclassifier.predict(X_test)\n",
        "# Predicting the Test set results\n",
        "from sklearn.metrics import classification_report, confusion_matrix, accuracy_score\n",
        "print(confusion_matrix(y_test,y_pred))\n",
        "print(classification_report(y_test,y_pred))\n",
        "print(accuracy_score(y_test, y_pred)*100)\n"
      ],
      "execution_count": null,
      "outputs": [
        {
          "output_type": "stream",
          "text": [
            "[[1096    0    1    4   11    6   10]\n",
            " [  45    0    0    0    0    0    0]\n",
            " [ 111    0   48    6    0    0   16]\n",
            " [ 132    0    1   19    0    0    4]\n",
            " [ 102    0    0    0   31    4    0]\n",
            " [ 117    0    0    0    0   52    0]\n",
            " [ 137    0    0    1    0    6   40]]\n",
            "              precision    recall  f1-score   support\n",
            "\n",
            "           0       0.63      0.97      0.76      1128\n",
            "           1       0.00      0.00      0.00        45\n",
            "           2       0.96      0.27      0.42       181\n",
            "           3       0.63      0.12      0.20       156\n",
            "           4       0.74      0.23      0.35       137\n",
            "           5       0.76      0.31      0.44       169\n",
            "           6       0.57      0.22      0.31       184\n",
            "\n",
            "    accuracy                           0.64      2000\n",
            "   macro avg       0.61      0.30      0.35      2000\n",
            "weighted avg       0.66      0.64      0.57      2000\n",
            "\n",
            "64.3\n"
          ],
          "name": "stdout"
        },
        {
          "output_type": "stream",
          "text": [
            "/usr/local/lib/python3.7/dist-packages/sklearn/metrics/_classification.py:1272: UndefinedMetricWarning: Precision and F-score are ill-defined and being set to 0.0 in labels with no predicted samples. Use `zero_division` parameter to control this behavior.\n",
            "  _warn_prf(average, modifier, msg_start, len(result))\n"
          ],
          "name": "stderr"
        }
      ]
    },
    {
      "cell_type": "code",
      "metadata": {
        "colab": {
          "base_uri": "https://localhost:8080/",
          "height": 297
        },
        "id": "36b-3q1iGBNa",
        "outputId": "b29ee712-15d0-42af-f333-51ec38736447"
      },
      "source": [
        "\n",
        "\n",
        "# KNN ALGORITHM\n",
        "from sklearn.neighbors import KNeighborsClassifier \n",
        "knn = KNeighborsClassifier(n_neighbors=7)\n",
        "  \n",
        "knn.fit(X_train, y_train)\n",
        "\n",
        "  \n",
        "# Predict on dataset which model has not seen before\n",
        "print(\"KNN : \",knn.predict(X_test))\n",
        "neighbors = np.arange(1, 9)\n",
        "train_accuracy = np.empty(len(neighbors))\n",
        "test_accuracy = np.empty(len(neighbors))\n",
        "  \n",
        "# Loop over K values\n",
        "for i, k in enumerate(neighbors):\n",
        "    knn = KNeighborsClassifier(n_neighbors=k)\n",
        "    knn.fit(X_train, y_train)\n",
        "      \n",
        "    # Compute traning and test data accuracy\n",
        "    train_accuracy[i] = knn.score(X_train, y_train)\n",
        "    test_accuracy[i] = knn.score(X_test, y_test)\n",
        "  \n",
        "# Generate plot\n",
        "plt.plot(neighbors, test_accuracy, label = 'Testing dataset Accuracy')\n",
        "plt.plot(neighbors, train_accuracy, label = 'Training dataset Accuracy')\n",
        "  \n",
        "plt.legend()\n",
        "plt.xlabel('n_neighbors')\n",
        "plt.ylabel('Accuracy')\n",
        "plt.show()\n"
      ],
      "execution_count": null,
      "outputs": [
        {
          "output_type": "stream",
          "text": [
            "KNN :  [0 0 0 ... 0 0 5]\n"
          ],
          "name": "stdout"
        },
        {
          "output_type": "display_data",
          "data": {
            "image/png": "[encoded data removed]",
            "text/plain": [
              "<Figure size 432x288 with 1 Axes>"
            ]
          },
          "metadata": {
            "tags": [],
            "needs_background": "light"
          }
        }
      ]
    },
    {
      "cell_type": "code",
      "metadata": {
        "colab": {
          "base_uri": "https://localhost:8080/"
        },
        "id": "S48S_CcWGGuF",
        "outputId": "07c00a74-d763-4292-fd36-4ca608dc8ea8"
      },
      "source": [
        "# Naive bayes\n",
        "from sklearn.naive_bayes import GaussianNB\n",
        "\n",
        "from sklearn.naive_bayes import GaussianNB\n",
        "classifier = GaussianNB()\n",
        "classifier.fit(X_train, y_train)\n",
        "\n",
        "# Predict\n",
        "y_pred = classifier.predict(X_test)\n",
        "\n",
        "#Confusion Matrix\n",
        "from sklearn import metrics\n",
        "cm = metrics.confusion_matrix(y_test, y_pred) \n",
        "print(\"Naive Bayes confusion matrix : \")\n",
        "print(cm)\n",
        "print()\n",
        "accuracy = metrics.accuracy_score(y_test, y_pred) \n",
        "print(\"Naive Bayes Accuracy score:\",accuracy*100)\n",
        "print()\n"
      ],
      "execution_count": null,
      "outputs": [
        {
          "output_type": "stream",
          "text": [
            "Naive Bayes confusion matrix : \n",
            "[[698 361  21   2  27   2  17]\n",
            " [  4  41   0   0   0   0   0]\n",
            " [166   0  15   0   0   0   0]\n",
            " [148   3   5   0   0   0   0]\n",
            " [115   3   2   0  17   0   0]\n",
            " [162   1   4   0   2   0   0]\n",
            " [174   1   5   0   0   0   4]]\n",
            "\n",
            "Naive Bayes Accuracy score: 38.75\n",
            "\n"
          ],
          "name": "stdout"
        }
      ]
    }
  ]
}